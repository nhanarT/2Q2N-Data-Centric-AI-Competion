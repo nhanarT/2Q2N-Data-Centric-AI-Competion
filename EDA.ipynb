{
 "cells": [
  {
   "cell_type": "code",
   "execution_count": null,
   "id": "493169a0",
   "metadata": {},
   "outputs": [],
   "source": [
    "import glob\n",
    "import re\n",
    "import gc\n",
    "\n",
    "from collections import namedtuple\n",
    "\n",
    "import cv2\n",
    "import numpy as np\n",
    "import matplotlib.pyplot as plt\n",
    "import matplotlib.patches as patches\n",
    "\n",
    "from IPython.display import clear_output"
   ]
  },
  {
   "cell_type": "code",
   "execution_count": null,
   "id": "f079ec3e",
   "metadata": {},
   "outputs": [],
   "source": [
    "label_map = {0: 'No mask', 1: 'Right mask', 2: 'Wrong mask'}\n",
    "color_map = {0: 'red', 1: 'green', 2:'orange'}"
   ]
  },
  {
   "cell_type": "code",
   "execution_count": null,
   "id": "b18f93cc",
   "metadata": {},
   "outputs": [],
   "source": [
    "IMG_PATH = './dataset/images/'"
   ]
  },
  {
   "cell_type": "code",
   "execution_count": null,
   "id": "f7215784",
   "metadata": {},
   "outputs": [],
   "source": [
    "all_img_path = glob.glob(IMG_PATH + '**/*.jpg',recursive=True)"
   ]
  },
  {
   "cell_type": "code",
   "execution_count": null,
   "id": "857ac149",
   "metadata": {},
   "outputs": [],
   "source": [
    "def exclude_public_test(path):\n",
    "    return False if 'public_test' in path else True"
   ]
  },
  {
   "cell_type": "code",
   "execution_count": null,
   "id": "f88d0aa7",
   "metadata": {},
   "outputs": [],
   "source": [
    "all_img_path = list(filter(exclude_public_test, all_img_path))"
   ]
  },
  {
   "cell_type": "code",
   "execution_count": null,
   "id": "87bf4e2a",
   "metadata": {},
   "outputs": [],
   "source": [
    "img_paths = [glob.glob(IMG_PATH + '**/{}.jpg'.format(i), recursive=True)[0]\n",
    "            for i in range(1,len(all_img_path)+1)]\n",
    "lbl_paths = [img_path.replace('images','labels').replace('jpg','txt') for img_path in img_paths]"
   ]
  },
  {
   "cell_type": "code",
   "execution_count": null,
   "id": "8805de8f",
   "metadata": {},
   "outputs": [],
   "source": [
    "parts = list(range(0,len(img_paths)+1,244))\n",
    "Member = namedtuple('Member', ['start_part','img_paths','lbl_paths'])"
   ]
  },
  {
   "cell_type": "code",
   "execution_count": null,
   "id": "c729f913",
   "metadata": {},
   "outputs": [],
   "source": [
    "Nhan = Member(start_part=parts[0], img_paths=img_paths[parts[0]:parts[1]], lbl_paths=lbl_paths[parts[0]:parts[1]])\n",
    "Nhi = Member(start_part=parts[1], img_paths=img_paths[parts[1]:parts[2]], lbl_paths=lbl_paths[parts[1]:parts[2]])\n",
    "Quyen = Member(start_part=parts[2], img_paths=img_paths[parts[2]:parts[3]], lbl_paths=lbl_paths[parts[2]:parts[3]])\n",
    "Quynh = Member(start_part=parts[3], img_paths=img_paths[parts[3]:parts[4]], lbl_paths=lbl_paths[parts[3]:parts[4]])"
   ]
  },
  {
   "cell_type": "code",
   "execution_count": null,
   "id": "8f959ff0",
   "metadata": {},
   "outputs": [],
   "source": [
    "imgs = []\n",
    "contents = []\n",
    "me = Nhan # Đỏi tên\n",
    "for img_path, lbl_path in zip(me.img_paths, me.lbl_paths):\n",
    "    imgs.append(cv2.imread(img_path))\n",
    "    with open(lbl_path) as f:\n",
    "        content = f.read().strip().split('\\n')\n",
    "    content = [element.strip().split(' ') for element in content]\n",
    "    contents.append(content)"
   ]
  },
  {
   "cell_type": "code",
   "execution_count": null,
   "id": "c03783ff",
   "metadata": {
    "scrolled": false
   },
   "outputs": [],
   "source": [
    "batch = 3 #Dừng ở đâu thì thay giá trị vào đây, default: 3\n",
    "while batch <= len(imgs)+1:\n",
    "    start = batch - 3\n",
    "    fig, axs = plt.subplots(4,1,figsize=(15,32))\n",
    "    for idx, (img, content) in enumerate(zip(imgs[start:batch+1], contents[start:batch+1])):\n",
    "        img = np.array(img)\n",
    "        axs[idx].imshow(img)\n",
    "        if content != [['']]:\n",
    "            img_shape = img.shape[1::-1]\n",
    "            content = np.array(content, dtype=float)\n",
    "            content[:,1:] = np.round(content[:,1:] * (img_shape * 2))\n",
    "            content = content.astype(int)\n",
    "            for label, box in zip(content[:,0], content[:,1:]):\n",
    "                x,y,w,h = *(box[:2] - box[2:] / 2), *box[2:]\n",
    "                rect = patches.Rectangle((x,y), w, h, linewidth=1, edgecolor=color_map[label], facecolor='none')\n",
    "                axs[idx].add_patch(rect)\n",
    "                axs[idx].text(x, y - 10, label_map[label], color=color_map[label], fontsize=12, fontweight='bold')\n",
    "                axs[idx].axis('off')\n",
    "        axs[idx].set_title('Image %d' % (me.start_part + start + idx + 1))\n",
    "    plt.show()\n",
    "    cont = input('Tiếp tục: ')\n",
    "    if cont == 'back': # Nhập 'back' để quay lại 4 ảnh trước\n",
    "        batch -= 4\n",
    "    elif cont != '':\n",
    "        break\n",
    "    else:\n",
    "        batch += 4\n",
    "        \n",
    "    clear_output()\n",
    "    gc.collect()\n",
    "    \n",
    "if batch != 247:\n",
    "    print('Note!!! - last_num_of_batch: %d' % (batch)) # Note lại cái này để bắt đầu tiếp\n",
    "    print('Dừng ở ảnh %d' % (me.start_part + batch + 1))\n",
    "else:\n",
    "    print('Xong')"
   ]
  }
 ],
 "metadata": {
  "kernelspec": {
   "display_name": "Datacomp",
   "language": "python",
   "name": "datacomp"
  },
  "language_info": {
   "codemirror_mode": {
    "name": "ipython",
    "version": 3
   },
   "file_extension": ".py",
   "mimetype": "text/x-python",
   "name": "python",
   "nbconvert_exporter": "python",
   "pygments_lexer": "ipython3",
   "version": "3.8.10"
  },
  "toc": {
   "base_numbering": 1,
   "nav_menu": {},
   "number_sections": false,
   "sideBar": true,
   "skip_h1_title": false,
   "title_cell": "Table of Contents",
   "title_sidebar": "Contents",
   "toc_cell": false,
   "toc_position": {},
   "toc_section_display": true,
   "toc_window_display": false
  }
 },
 "nbformat": 4,
 "nbformat_minor": 5
}
