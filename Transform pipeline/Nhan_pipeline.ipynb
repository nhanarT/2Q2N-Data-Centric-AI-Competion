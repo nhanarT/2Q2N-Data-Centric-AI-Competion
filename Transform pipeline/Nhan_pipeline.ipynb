{
 "cells": [
  {
   "cell_type": "code",
   "execution_count": null,
   "id": "d21dc6c6",
   "metadata": {},
   "outputs": [],
   "source": [
    "import albumentations as A"
   ]
  },
  {
   "cell_type": "markdown",
   "id": "7d230457",
   "metadata": {},
   "source": [
    "# Imgaug pipeline"
   ]
  },
  {
   "cell_type": "markdown",
   "id": "7ddaef06",
   "metadata": {
    "heading_collapsed": true
   },
   "source": [
    "## submit1_1 & submit1_2  706 ảnh"
   ]
  },
  {
   "cell_type": "code",
   "execution_count": 28,
   "id": "c1d91872",
   "metadata": {
    "hidden": true
   },
   "outputs": [],
   "source": [
    "# transform_pipeline stage1\n",
    "transform_pipeline = \\\n",
    "    A.Compose([A.GaussNoise(),\n",
    "               A.GaussianBlur(),\n",
    "              A.RandomBrightnessContrast()],\n",
    "              bbox_params=A.BboxParams(format='yolo',label_fields=['class_labels']))"
   ]
  },
  {
   "cell_type": "code",
   "execution_count": 32,
   "id": "be36b607",
   "metadata": {
    "hidden": true
   },
   "outputs": [],
   "source": [
    "# transform_pipeline stage2 \n",
    "transform_pipeline = \\\n",
    "    A.Compose([A.RandomSizedBBoxSafeCrop(height=720,width=1280),\n",
    "               A.HorizontalFlip(),\n",
    "              A.Affine(scale=(0.9,0.98),translate_percent=0.05,rotate=(-15,15),p=0.3)],\n",
    "              bbox_params=A.BboxParams(format='yolo',label_fields=['class_labels']))"
   ]
  },
  {
   "cell_type": "markdown",
   "id": "35d14a49",
   "metadata": {
    "heading_collapsed": true
   },
   "source": [
    "## submit1_3  657 ảnh & submit1_4 571 ảnh"
   ]
  },
  {
   "cell_type": "code",
   "execution_count": 28,
   "id": "941c65f5",
   "metadata": {
    "hidden": true
   },
   "outputs": [],
   "source": [
    "# transform_pipeline stage1\n",
    "transform_pipeline = \\\n",
    "    A.Compose([A.GaussNoise(),\n",
    "               A.GaussianBlur(),\n",
    "              A.RandomBrightnessContrast(p=0.3)],\n",
    "              bbox_params=A.BboxParams(format='yolo',label_fields=['class_labels']))"
   ]
  },
  {
   "cell_type": "code",
   "execution_count": 32,
   "id": "e6f7596d",
   "metadata": {
    "hidden": true
   },
   "outputs": [],
   "source": [
    "# transform_pipeline stage2 \n",
    "transform_pipeline = \\\n",
    "    A.Compose([A.RandomSizedBBoxSafeCrop(height=720,width=1280),\n",
    "               A.HorizontalFlip(),\n",
    "              A.Affine(scale=(0.9,0.98),translate_percent=0.03,rotate=(-5,5),p=0.3)],\n",
    "              bbox_params=A.BboxParams(format='yolo',label_fields=['class_labels']))"
   ]
  },
  {
   "cell_type": "code",
   "execution_count": 36,
   "id": "06a5f6f5",
   "metadata": {
    "hidden": true
   },
   "outputs": [],
   "source": [
    "# transform_pipeline stage3 (chỉ apply lên sai khẩu trang)\n",
    "transform_pipeline = \\\n",
    "    A.Compose([A.GaussNoise(var_limit=25.0),\n",
    "               A.Blur(p=0.3),\n",
    "              A.Affine(translate_percent=0.05,rotate=(-7,7),p=0.2)],\n",
    "              bbox_params=A.BboxParams(format='yolo',label_fields=['class_labels']))"
   ]
  },
  {
   "cell_type": "code",
   "execution_count": 43,
   "id": "bfb8791c",
   "metadata": {
    "hidden": true
   },
   "outputs": [],
   "source": [
    "# Cho mixup\n",
    "transform_pipeline = \\\n",
    "    A.Compose([A.RandomBrightnessContrast(brightness_limit=0.01, p = 0.6)],\n",
    "              bbox_params=A.BboxParams(format='yolo',label_fields=['class_labels']))"
   ]
  },
  {
   "cell_type": "markdown",
   "id": "50634072",
   "metadata": {
    "heading_collapsed": true
   },
   "source": [
    "## submit1_5 "
   ]
  },
  {
   "cell_type": "code",
   "execution_count": 30,
   "id": "b9ca9d62",
   "metadata": {
    "hidden": true
   },
   "outputs": [],
   "source": [
    "# transform_pipeline resize combined-3-parts img\n",
    "transform_pipeline = \\\n",
    "    A.Compose([A.Resize(height=720,width=1280)],\n",
    "             bbox_params=A.BboxParams(format='yolo',label_fields=['class_labels']))"
   ]
  },
  {
   "cell_type": "code",
   "execution_count": 50,
   "id": "89ac81cb",
   "metadata": {
    "hidden": true
   },
   "outputs": [],
   "source": [
    "# transform_pipeline resize weird shape img\n",
    "transform_pipeline = \\\n",
    "    A.Compose([A.RandomSizedBBoxSafeCrop(height=720,width=640)],\n",
    "             bbox_params=A.BboxParams(format='yolo',label_fields=['class_labels']))"
   ]
  },
  {
   "cell_type": "code",
   "execution_count": 62,
   "id": "67a81a62",
   "metadata": {
    "hidden": true
   },
   "outputs": [],
   "source": [
    "# transform_pipeline stage1\n",
    "transform_pipeline = \\\n",
    "    A.Compose([A.RandomSizedBBoxSafeCrop(height=720,width=1280),\n",
    "               A.HorizontalFlip()],\n",
    "              bbox_params=A.BboxParams(format='yolo',label_fields=['class_labels']))"
   ]
  },
  {
   "cell_type": "code",
   "execution_count": 70,
   "id": "4471678d",
   "metadata": {
    "hidden": true
   },
   "outputs": [],
   "source": [
    "# transform_pipeline stage2\n",
    "transform_pipeline = \\\n",
    "    A.Compose([A.GaussNoise(),\n",
    "               A.OneOf([A.GaussianBlur(p=0.85),\n",
    "                       A.MotionBlur(p=0.15)]),\n",
    "              A.RandomBrightnessContrast(p=0.3),\n",
    "              A.Affine(scale=(0.9,0.98),rotate=(-5,5),p=0.3)],\n",
    "              bbox_params=A.BboxParams(format='yolo',label_fields=['class_labels']))"
   ]
  },
  {
   "cell_type": "code",
   "execution_count": 133,
   "id": "f255e6ca",
   "metadata": {
    "hidden": true
   },
   "outputs": [],
   "source": [
    "# transform_pipeline stage3 (chỉ apply class 0 & 2)\n",
    "transform_pipeline = \\\n",
    "    A.Compose([A.GaussNoise(var_limit=25.0),\n",
    "               A.Blur(p=0.3),\n",
    "              A.Affine(rotate=(-7,7),p=0.2)],\n",
    "              bbox_params=A.BboxParams(format='yolo',label_fields=['class_labels']))"
   ]
  },
  {
   "cell_type": "code",
   "execution_count": 158,
   "id": "b9a9509c",
   "metadata": {
    "hidden": true
   },
   "outputs": [],
   "source": [
    "# Cho mixup\n",
    "transform_pipeline = \\\n",
    "    A.Compose([A.RandomBrightnessContrast(brightness_limit=0.01, p = 0.6)],\n",
    "              bbox_params=A.BboxParams(format='yolo',label_fields=['class_labels']))"
   ]
  },
  {
   "cell_type": "markdown",
   "id": "5fba309a",
   "metadata": {
    "heading_collapsed": true
   },
   "source": [
    "## submit1_6"
   ]
  },
  {
   "cell_type": "code",
   "execution_count": null,
   "id": "69943d0c",
   "metadata": {
    "hidden": true
   },
   "outputs": [],
   "source": [
    "# transform_pipeline stage1 (Lên 534 ảnh gốc)\n",
    "transform_pipeline = \\\n",
    "    A.Compose([A.GaussNoise(),\n",
    "               A.GaussianBlur(),\n",
    "              A.RandomBrightnessContrast(p=0.3)],\n",
    "              bbox_params=A.BboxParams(format='yolo',label_fields=['class_labels']))"
   ]
  },
  {
   "cell_type": "code",
   "execution_count": 115,
   "id": "c47c64d2",
   "metadata": {
    "hidden": true
   },
   "outputs": [],
   "source": [
    "# transform_pipeline stage2 (Lên 534 ảnh gốc)\n",
    "transform_pipeline = \\\n",
    "    A.Compose([A.RandomSizedBBoxSafeCrop(height=720,width=1280),\n",
    "               A.HorizontalFlip(),\n",
    "              A.Affine(scale=(0.9,0.98),translate_percent=0.03,rotate=(-5,5),p=0.3)],\n",
    "              bbox_params=A.BboxParams(format='yolo',label_fields=['class_labels']))"
   ]
  },
  {
   "cell_type": "code",
   "execution_count": 120,
   "id": "77f32349",
   "metadata": {
    "hidden": true
   },
   "outputs": [],
   "source": [
    "# transform_pipeline stage3 (chỉ apply lên sai khẩu trang)\n",
    "transform_pipeline = \\\n",
    "    A.Compose([A.GaussNoise(var_limit=25.0),\n",
    "               A.Blur(p=0.3),\n",
    "              A.Affine(translate_percent=0.05,rotate=(-7,7),p=0.2)],\n",
    "              bbox_params=A.BboxParams(format='yolo',label_fields=['class_labels']))"
   ]
  },
  {
   "cell_type": "code",
   "execution_count": 137,
   "id": "08f974b6",
   "metadata": {
    "hidden": true
   },
   "outputs": [],
   "source": [
    "# transform_pipeline stage4 (chỉ apply lên không khẩu trang & lbl_len <= 3)\n",
    "transform_pipeline = \\\n",
    "    A.Compose([A.Blur(p=0.4),\n",
    "               A.GaussNoise(var_limit=25.0),\n",
    "              A.Affine(scale=(0.93,0.98),rotate=(-7,7),p=0.2)],\n",
    "              bbox_params=A.BboxParams(format='yolo',label_fields=['class_labels']))"
   ]
  },
  {
   "cell_type": "code",
   "execution_count": 144,
   "id": "11f028f2",
   "metadata": {
    "hidden": true
   },
   "outputs": [],
   "source": [
    "# Cho mixup\n",
    "transform_pipeline = \\\n",
    "    A.Compose([A.RandomBrightnessContrast(brightness_limit=0.01, p = 0.6)],\n",
    "              bbox_params=A.BboxParams(format='yolo',label_fields=['class_labels']))"
   ]
  },
  {
   "cell_type": "markdown",
   "id": "d51934d9",
   "metadata": {
    "heading_collapsed": true
   },
   "source": [
    "## submit1_7"
   ]
  },
  {
   "cell_type": "code",
   "execution_count": 22,
   "id": "1b89dffc",
   "metadata": {
    "hidden": true
   },
   "outputs": [],
   "source": [
    "# transform_pipeline stage1\n",
    "transform_pipeline = \\\n",
    "    A.Compose([A.GaussianBlur(p=0.7),\n",
    "              A.RandomBrightnessContrast(p=0.7)],\n",
    "              bbox_params=A.BboxParams(format='yolo',label_fields=['class_labels']))"
   ]
  },
  {
   "cell_type": "code",
   "execution_count": 32,
   "id": "615af9ec",
   "metadata": {
    "hidden": true
   },
   "outputs": [],
   "source": [
    "# transform_pipeline stage2 \n",
    "transform_pipeline = \\\n",
    "    A.Compose([A.RandomSizedBBoxSafeCrop(height=720,width=1280),\n",
    "               A.HorizontalFlip(),\n",
    "              A.Affine(scale=(0.9,0.98),rotate=(-5,5),p=0.4)],\n",
    "              bbox_params=A.BboxParams(format='yolo',label_fields=['class_labels']))"
   ]
  },
  {
   "cell_type": "code",
   "execution_count": 69,
   "id": "47e117a0",
   "metadata": {
    "hidden": true
   },
   "outputs": [],
   "source": [
    "# transform_pipeline stage3 (chỉ apply lên sai khẩu trang)\n",
    "transform_pipeline = \\\n",
    "    A.Compose([A.GaussNoise(p=0.75),\n",
    "               A.Blur(p=1/3),\n",
    "              A.Affine(rotate=(-7,7),p=0.25)],\n",
    "              bbox_params=A.BboxParams(format='yolo',label_fields=['class_labels']))"
   ]
  },
  {
   "cell_type": "code",
   "execution_count": 199,
   "id": "2a4cfdd7",
   "metadata": {
    "hidden": true
   },
   "outputs": [],
   "source": [
    "# Cho mixup\n",
    "transform_pipeline = \\\n",
    "    A.Compose([],\n",
    "              bbox_params=A.BboxParams(format='yolo',label_fields=['class_labels']))"
   ]
  },
  {
   "cell_type": "markdown",
   "id": "46393a26",
   "metadata": {
    "heading_collapsed": true
   },
   "source": [
    "## submit1_8"
   ]
  },
  {
   "cell_type": "code",
   "execution_count": 46,
   "id": "f1e6f45d",
   "metadata": {
    "hidden": true
   },
   "outputs": [],
   "source": [
    "# transform_pipeline stage1\n",
    "transform_pipeline = \\\n",
    "    A.Compose([A.GaussianBlur(p=0.7),\n",
    "              A.RandomBrightnessContrast(p=0.7)],\n",
    "              bbox_params=A.BboxParams(format='yolo',label_fields=['class_labels']))"
   ]
  },
  {
   "cell_type": "code",
   "execution_count": 54,
   "id": "9c9b2d51",
   "metadata": {
    "hidden": true
   },
   "outputs": [],
   "source": [
    "# transform_pipeline stage2 \n",
    "transform_pipeline = \\\n",
    "    A.Compose([A.RandomSizedBBoxSafeCrop(height=720,width=1280),\n",
    "               A.HorizontalFlip(),\n",
    "              A.Affine(scale=(0.9,0.98),rotate=(-5,5),p=0.4)],\n",
    "              bbox_params=A.BboxParams(format='yolo',label_fields=['class_labels']))"
   ]
  },
  {
   "cell_type": "code",
   "execution_count": 60,
   "id": "2ee2606d",
   "metadata": {
    "hidden": true
   },
   "outputs": [],
   "source": [
    "# transform_pipeline stage3 (chỉ apply lên sai khẩu trang)\n",
    "transform_pipeline = \\\n",
    "    A.Compose([A.GaussNoise(p=0.75),\n",
    "               A.Blur(p=1/3),\n",
    "              A.Affine(rotate=(-7,7),p=0.25)],\n",
    "              bbox_params=A.BboxParams(format='yolo',label_fields=['class_labels']))"
   ]
  },
  {
   "cell_type": "code",
   "execution_count": 86,
   "id": "783f287f",
   "metadata": {
    "hidden": true
   },
   "outputs": [],
   "source": [
    "# transform_pipeline stage4 (cho đủ 3000 ảnh) \n",
    "transform_pipeline = \\\n",
    "    A.Compose([A.ToGray(p=1)],\n",
    "              bbox_params=A.BboxParams(format='yolo',label_fields=['class_labels']))"
   ]
  },
  {
   "cell_type": "markdown",
   "id": "f30d6975",
   "metadata": {
    "heading_collapsed": true
   },
   "source": [
    "## submit1_9 & submit1_10"
   ]
  },
  {
   "cell_type": "markdown",
   "id": "db2801f6",
   "metadata": {
    "hidden": true
   },
   "source": [
    "1_9: (1_7 less mixed-up images)\n",
    "\n",
    "1_10: mix-up from 1_9 + raw cutmix augmentation"
   ]
  },
  {
   "cell_type": "code",
   "execution_count": 267,
   "id": "1318bcda",
   "metadata": {
    "hidden": true
   },
   "outputs": [],
   "source": [
    "# transform_pipeline stage1\n",
    "transform_pipeline = \\\n",
    "    A.Compose([A.OneOf([A.GaussianBlur(p=0.7),\n",
    "                       A.GaussNoise(p=0.3)],p=1),\n",
    "              A.RandomBrightnessContrast()],\n",
    "              bbox_params=A.BboxParams(format='yolo',label_fields=['class_labels']))"
   ]
  },
  {
   "cell_type": "code",
   "execution_count": 278,
   "id": "a791d2d5",
   "metadata": {
    "hidden": true
   },
   "outputs": [],
   "source": [
    "# transform_pipeline stage2 \n",
    "transform_pipeline = \\\n",
    "    A.Compose([A.RandomSizedBBoxSafeCrop(height=720,width=1280),\n",
    "               A.HorizontalFlip(),\n",
    "              A.Affine(scale=(0.9,0.98),rotate=(-5,5),p=0.4)],\n",
    "              bbox_params=A.BboxParams(format='yolo',label_fields=['class_labels']))"
   ]
  },
  {
   "cell_type": "code",
   "execution_count": 287,
   "id": "17a3ebb7",
   "metadata": {
    "hidden": true
   },
   "outputs": [],
   "source": [
    "# transform_pipeline stage3 (chỉ apply lên sai khẩu trang)\n",
    "transform_pipeline = \\\n",
    "    A.Compose([A.GaussNoise(p=0.75),\n",
    "               A.Blur(p=0.25),\n",
    "              A.Affine(rotate=(-7,7),p=0.25)],\n",
    "              bbox_params=A.BboxParams(format='yolo',label_fields=['class_labels']))"
   ]
  },
  {
   "cell_type": "code",
   "execution_count": 124,
   "id": "d688bbfd",
   "metadata": {
    "hidden": true
   },
   "outputs": [],
   "source": [
    "# Cho mixup\n",
    "transform_pipeline = \\\n",
    "    A.Compose([],\n",
    "              bbox_params=A.BboxParams(format='yolo',label_fields=['class_labels']))"
   ]
  },
  {
   "cell_type": "code",
   "execution_count": 300,
   "id": "edadede4",
   "metadata": {
    "hidden": true
   },
   "outputs": [],
   "source": [
    "# Cho đủ 3k ảnh\n",
    "transform_pipeline = \\\n",
    "    A.Compose([A.GaussNoise(),\n",
    "              A.HorizontalFlip()],\n",
    "              bbox_params=A.BboxParams(format='yolo',label_fields=['class_labels']))"
   ]
  }
 ],
 "metadata": {
  "kernelspec": {
   "display_name": "Python 3",
   "language": "python",
   "name": "python3"
  },
  "language_info": {
   "codemirror_mode": {
    "name": "ipython",
    "version": 3
   },
   "file_extension": ".py",
   "mimetype": "text/x-python",
   "name": "python",
   "nbconvert_exporter": "python",
   "pygments_lexer": "ipython3",
   "version": "3.8.10"
  },
  "toc": {
   "base_numbering": 1,
   "nav_menu": {},
   "number_sections": false,
   "sideBar": true,
   "skip_h1_title": false,
   "title_cell": "Table of Contents",
   "title_sidebar": "Contents",
   "toc_cell": false,
   "toc_position": {},
   "toc_section_display": true,
   "toc_window_display": false
  }
 },
 "nbformat": 4,
 "nbformat_minor": 5
}
