{
 "cells": [
  {
   "cell_type": "code",
   "execution_count": null,
   "metadata": {
    "id": "QwAXXASx_oks"
   },
   "outputs": [],
   "source": [
    "import albumentations as A"
   ]
  },
  {
   "cell_type": "markdown",
   "metadata": {
    "id": "YVLEkChz_tIQ"
   },
   "source": [
    "# Imgaug pipeline"
   ]
  },
  {
   "cell_type": "markdown",
   "metadata": {
    "id": "QXUIJVPk_yPL"
   },
   "source": [
    "## submit4 792 images"
   ]
  },
  {
   "cell_type": "code",
   "execution_count": null,
   "metadata": {
    "id": "EMNc4ZFg_xiV"
   },
   "outputs": [],
   "source": [
    "# transform_pipeline stage1\n",
    "transform = A.Compose(\n",
    "    [A.Flip(p=1), A.InvertImg (p=1)],\n",
    "    bbox_params=A.BboxParams(format='yolo', label_fields=['category_ids']),\n",
    ")"
   ]
  },
  {
   "cell_type": "markdown",
   "metadata": {
    "id": "yqVkI1RMLptB"
   },
   "source": [
    "## submit4_1 571 images"
   ]
  },
  {
   "cell_type": "code",
   "execution_count": null,
   "metadata": {
    "id": "pYPpIf80L0sU"
   },
   "outputs": [],
   "source": [
    "# transform_pipeline stage1\n",
    "transform = A.Compose(\n",
    "    [A.Flip(p=1), A.InvertImg (p=1)],\n",
    "    bbox_params=A.BboxParams(format='yolo', label_fields=['category_ids']),\n",
    ")"
   ]
  },
  {
   "cell_type": "code",
   "execution_count": null,
   "metadata": {
    "id": "C-4fhfcFL2Kt"
   },
   "outputs": [],
   "source": [
    "# transform_pipeline stage2\n",
    "transform = A.Compose(\n",
    "    [A.Affine(p=1), A.RandomSnow(p = 1)],\n",
    "    bbox_params=A.BboxParams(format='yolo', label_fields=['category_ids']),\n",
    ")"
   ]
  },
  {
   "cell_type": "markdown",
   "metadata": {
    "id": "LLJ8ccdHL63t"
   },
   "source": [
    "## submit4_2 571 images"
   ]
  },
  {
   "cell_type": "code",
   "execution_count": null,
   "metadata": {
    "id": "45RF6JzZL74R"
   },
   "outputs": [],
   "source": [
    "# transform_pipeline stage1\n",
    "transform = A.Compose(\n",
    "    [A.Flip(p=1), A.InvertImg (p=1)],\n",
    "    bbox_params=A.BboxParams(format='yolo', label_fields=['category_ids']),\n",
    ")"
   ]
  },
  {
   "cell_type": "code",
   "execution_count": null,
   "metadata": {
    "id": "KMIjtvoHMAUy"
   },
   "outputs": [],
   "source": [
    "# transform_pipeline stage2\n",
    "transform = A.Compose(\n",
    "    [A.Affine(p=1), A.RandomSnow(p = 1)],\n",
    "    bbox_params=A.BboxParams(format='yolo', label_fields=['category_ids']),\n",
    ")"
   ]
  },
  {
   "cell_type": "code",
   "execution_count": null,
   "metadata": {
    "id": "Lnwvyrn0MDfZ"
   },
   "outputs": [],
   "source": [
    "# transform_pipeline stage3\n",
    "transform = A.Compose(\n",
    "    [A.RandomBrightnessContrast(p=1, brightness_limit= -0.3, always_apply= True), \n",
    "    A.GaussianBlur(p=1)],\n",
    "    bbox_params=A.BboxParams(format='yolo', label_fields=['category_ids']),\n",
    "  )"
   ]
  }
 ],
 "metadata": {
  "colab": {
   "name": "Untitled25.ipynb",
   "provenance": []
  },
  "kernelspec": {
   "display_name": "Python 3",
   "language": "python",
   "name": "python3"
  },
  "language_info": {
   "codemirror_mode": {
    "name": "ipython",
    "version": 3
   },
   "file_extension": ".py",
   "mimetype": "text/x-python",
   "name": "python",
   "nbconvert_exporter": "python",
   "pygments_lexer": "ipython3",
   "version": "3.8.5"
  }
 },
 "nbformat": 4,
 "nbformat_minor": 1
}
