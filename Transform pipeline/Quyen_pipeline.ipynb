{
  "nbformat": 4,
  "nbformat_minor": 0,
  "metadata": {
    "colab": {
      "name": "Aug Pipeline.ipynb",
      "provenance": [],
      "collapsed_sections": []
    },
    "kernelspec": {
      "name": "python3",
      "display_name": "Python 3"
    },
    "language_info": {
      "name": "python"
    }
  },
  "cells": [
    {
      "cell_type": "markdown",
      "source": [
        "# Image Augmentation Pipeline"
      ],
      "metadata": {
        "id": "L8oE753qsHP0"
      }
    },
    {
      "cell_type": "markdown",
      "source": [
        "submit3_1 trên tập ảnh gốc"
      ],
      "metadata": {
        "id": "bXFUgacArvOb"
      }
    },
    {
      "cell_type": "code",
      "execution_count": null,
      "metadata": {
        "id": "6Ws6CXGRrpR0"
      },
      "outputs": [],
      "source": [
        "transform = A.Compose(\n",
        "    [ \n",
        "      A.HorizontalFlip(p=0.5),\n",
        "      A.RGBShift(r_shift_limit=25, g_shift_limit=25, b_shift_limit=25, p=0.5),\n",
        "      A.RandomBrightnessContrast(p=0.5),\n",
        "      A.GaussNoise(p=0.5),\n",
        "      A.HueSaturationValue(p=0.5),\n",
        "      A.Flip(p=0.5),\n",
        "     ], bbox_params=A.BboxParams(format='yolo', label_fields=['category_ids']),\n",
        ")"
      ]
    },
    {
      "cell_type": "markdown",
      "source": [
        "submit3_2 trên tập 657 ảnh tốt nhất của nhóm"
      ],
      "metadata": {
        "id": "kVy5U0zHsP8u"
      }
    },
    {
      "cell_type": "code",
      "source": [
        "transform = A.Compose(\n",
        "    [ \n",
        "      A.RandomRain(p=0.5),\n",
        "      A.RandomBrightnessContrast(p=0.5),\n",
        "      A.GaussNoise(p=0.5),\n",
        "      A.HueSaturationValue(p=0.5),\n",
        "      A.GaussianBlur(p=0.5),\n",
        "      A.RandomSnow(p=0.5),\n",
        "      A.Sharpen(p=0.5),\n",
        "     ], bbox_params=A.BboxParams(format='yolo', label_fields=['category_ids']),\n",
        ")"
      ],
      "metadata": {
        "id": "tlfGqbmksUhZ"
      },
      "execution_count": null,
      "outputs": []
    }
  ]
}