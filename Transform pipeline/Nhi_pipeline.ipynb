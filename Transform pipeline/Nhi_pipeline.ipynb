{
 "cells": [
  {
   "cell_type": "code",
   "execution_count": null,
   "metadata": {},
   "outputs": [],
   "source": [
    "import imgaug as ia\n",
    "from imgaug import augmenters as iaa"
   ]
  },
  {
   "cell_type": "markdown",
   "metadata": {},
   "source": [
    "# Imgaug pipeline"
   ]
  },
  {
   "cell_type": "markdown",
   "metadata": {},
   "source": [
    "## Submit 2 trên tập ảnh gốc đã relabel"
   ]
  },
  {
   "cell_type": "code",
   "execution_count": null,
   "metadata": {},
   "outputs": [],
   "source": [
    "transform_pipeline = iaa.Sequential([\n",
    "                    iaa.Fliplr(0.5),\n",
    "                    iaa.Crop(percent=(0, 0.05)),\n",
    "                    iaa.GaussianBlur()\n",
    "                    iaa.LinearContrast((0.4, 1.6)), \n",
    "                    iaa.AdditiveGaussianNoise(scale=(0.1*255), per_channel=0.5),\n",
    "                    iaa.Multiply((0.5, 1.5), per_channel=True),\n",
    "                    iaa.Affine(translate_percent={\"x\": (-0.16, 0.16), \"y\": (-0.04, 0.04)})\n",
    "                ], random_order=False)"
   ]
  },
  {
   "cell_type": "markdown",
   "metadata": {},
   "source": [
    "## Submit 2_1 trên tập 657 ảnh"
   ]
  },
  {
   "cell_type": "code",
   "execution_count": null,
   "metadata": {},
   "outputs": [],
   "source": [
    "# Apply cho toàn tập\n",
    "transform_pipeline = iaa.Sequential([\n",
    "                    iaa.Crop(percent=(0, 0.05)),\n",
    "                    iaa.GaussianBlur()\n",
    "                    iaa.LinearContrast((0.4, 1.6)), \n",
    "                    iaa.AdditiveGaussianNoise(scale=(0.1*255), per_channel=0.5),\n",
    "                    iaa.Multiply((0.5, 1.5), per_channel=True),\n",
    "                ], random_order=False)"
   ]
  },
  {
   "cell_type": "code",
   "execution_count": null,
   "metadata": {},
   "outputs": [],
   "source": [
    "# Chỉ apply cho label 2\n",
    "transform_pipeline = iaa.Sequential([\n",
    "                    iaa.GaussianBlur()\n",
    "                    iaa.LinearContrast((0.4, 1.6)), \n",
    "                    iaa.Affine(translate_percent=0.05,rotate=(-10, 10))\n",
    "                ], random_order=False)"
   ]
  }
 ],
 "metadata": {
  "kernelspec": {
   "display_name": "Python 3",
   "language": "python",
   "name": "python3"
  },
  "language_info": {
   "codemirror_mode": {
    "name": "ipython",
    "version": 3
   },
   "file_extension": ".py",
   "mimetype": "text/x-python",
   "name": "python",
   "nbconvert_exporter": "python",
   "pygments_lexer": "ipython3",
   "version": "3.8.5"
  }
 },
 "nbformat": 4,
 "nbformat_minor": 4
}
